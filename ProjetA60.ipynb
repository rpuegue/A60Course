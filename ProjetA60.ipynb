{
 "cells": [
  {
   "cell_type": "markdown",
   "metadata": {},
   "source": [
    "# Using Natural Language Processing to Generate New Recipes"
   ]
  },
  {
   "cell_type": "markdown",
   "metadata": {},
   "source": [
    "## A. Importation des bibliothèques"
   ]
  },
  {
   "cell_type": "code",
   "execution_count": 32,
   "metadata": {},
   "outputs": [],
   "source": [
    "import warnings\n",
    "warnings.filterwarnings('ignore')\n",
    "\n",
    "import matplotlib\n",
    "%matplotlib inline\n",
    "matplotlib.rcParams['figure.dpi'] = 100\n",
    "import matplotlib.pyplot as plt\n",
    "plt.style.use('ggplot')\n",
    "import seaborn as sns\n",
    "import pandas as pd\n",
    "import json\n",
    "import tqdm\n",
    "\n",
    "from model_demo import demo\n",
    "from transformers import AutoTokenizer, AutoModelForCausalLM"
   ]
  },
  {
   "cell_type": "markdown",
   "metadata": {},
   "source": [
    "## B. Chargement des bibliothèques"
   ]
  },
  {
   "cell_type": "code",
   "execution_count": 2,
   "metadata": {},
   "outputs": [],
   "source": [
    "#!git clone https://github.com/huggingface/transformers; \n",
    "#!cd transformers; pip install ."
   ]
  },
  {
   "cell_type": "markdown",
   "metadata": {},
   "source": [
    "## C. Tâche 1: Démonstration"
   ]
  },
  {
   "cell_type": "code",
   "execution_count": 3,
   "metadata": {},
   "outputs": [
    {
     "name": "stderr",
     "output_type": "stream",
     "text": [
      "Setting `pad_token_id` to `eos_token_id`:50256 for open-end generation.\n"
     ]
    },
    {
     "name": "stdout",
     "output_type": "stream",
     "text": [
      "------------------\n",
      "Generated Output\n",
      "------------------\n",
      "Ingredients:\n",
      "      1 1/4 tablespoons paprika \n",
      "      1 tablespoon kosher salt \n",
      "      1 teaspoon garlic powder \n",
      "      1/2 teaspoon ground black pepper \n",
      "      1/2 teaspoon onion powder \n",
      "      1/2 teaspoon ground cayenne pepper \n",
      "      1/2 teaspoon dried oregano \n",
      "      1/2 teaspoon dried thyme \n",
      "      2 tablespoons olive oil \n",
      "      1 (3 pound) sirloin tip roast \n",
      " \n",
      " Instructions: \n",
      " Preheat oven to 350 degrees F (175 degrees C). Line a baking sheet with aluminum foil. Whisk paprika, kosher salt, garlic powder, black pepper, onion powder, cayenne pepper, oregano, and thyme together in a bowl. Rub olive oil all over the meat, reserving 2 tablespoons for the sauce. Arrange the roast on the prepared baking sheet. Brush any remaining oil from the foil over the meat. Roast the roast in the preheated oven until the roast is tender, 45 to 55 minutes. An instant-read thermometer inserted into the center should read at least 145 degrees F (63 degrees C).  \n"
     ]
    }
   ],
   "source": [
    "# Démo 1\n",
    "\n",
    "demo('Ingredients:\\n \\\n",
    "     1 1/4 tablespoons paprika \\n \\\n",
    "     1 tablespoon kosher salt \\n \\\n",
    "     1 teaspoon garlic powder \\n \\\n",
    "     1/2 teaspoon ground black pepper \\n \\\n",
    "     1/2 teaspoon onion powder \\n \\\n",
    "     1/2 teaspoon ground cayenne pepper \\n \\\n",
    "     1/2 teaspoon dried oregano \\n \\\n",
    "     1/2 teaspoon dried thyme \\n \\\n",
    "     2 tablespoons olive oil \\n \\\n",
    "     1 (3 pound) sirloin tip roast \\n \\n Instructions')"
   ]
  },
  {
   "cell_type": "code",
   "execution_count": 4,
   "metadata": {},
   "outputs": [
    {
     "name": "stderr",
     "output_type": "stream",
     "text": [
      "Setting `pad_token_id` to `eos_token_id`:50256 for open-end generation.\n"
     ]
    },
    {
     "name": "stdout",
     "output_type": "stream",
     "text": [
      "------------------\n",
      "Generated Output\n",
      "------------------\n",
      "Ingredients:\n",
      "      1 1/4 tablespoons paprika \n",
      "      1 tablespoon kosher salt \n",
      "      1 teaspoon garlic powder \n",
      "      1/2 teaspoon ground black pepper \n",
      "      1/2 teaspoon onion powder \n",
      "      1/2 teaspoon ground cayenne pepper \n",
      "      1/2 teaspoon dried oregano \n",
      "      1/2 teaspoon dried thyme \n",
      "      2 tablespoons olive oil \n",
      "      1 (3 pound) sirloin tip roast \n",
      " \n",
      " Instructions: \n",
      " Mix paprika, kosher salt, garlic powder, black pepper, onion powder, cayenne pepper, oregano, and thyme together in a bowl. Place roast in the bowl; cover and marinate in the refrigerator at least 1 hour. Remove meat from marinade using a slotted spoon. Discard marinade. Remove roast from marinade; discard any remaining marinade. Heat olive oil in a skillet over medium heat. Cook and stir beef roast in hot oil until browned and crumbly, about 10 minutes. An instant-read thermometer inserted into the center should read at least 145 degrees F (63 degrees C).  \n"
     ]
    }
   ],
   "source": [
    "# Démo 2\n",
    "\n",
    "demo('Ingredients:\\n \\\n",
    "     1 1/4 tablespoons paprika \\n \\\n",
    "     1 tablespoon kosher salt \\n \\\n",
    "     1 teaspoon garlic powder \\n \\\n",
    "     1/2 teaspoon ground black pepper \\n \\\n",
    "     1/2 teaspoon onion powder \\n \\\n",
    "     1/2 teaspoon ground cayenne pepper \\n \\\n",
    "     1/2 teaspoon dried oregano \\n \\\n",
    "     1/2 teaspoon dried thyme \\n \\\n",
    "     2 tablespoons olive oil \\n \\\n",
    "     1 (3 pound) sirloin tip roast \\n \\n Instructions')"
   ]
  },
  {
   "cell_type": "markdown",
   "metadata": {},
   "source": [
    "## D. Tache 2 - Analyse exploratoire des données et prétraitement "
   ]
  },
  {
   "cell_type": "code",
   "execution_count": 5,
   "metadata": {
    "jupyter": {
     "outputs_hidden": true
    }
   },
   "outputs": [],
   "source": [
    "# Chargement des données de la source ar dans un dictionnaire de données\n",
    "\n",
    "data = json.load(open('Dataset/recipes_raw_nosource_ar.json', 'r'))"
   ]
  },
  {
   "cell_type": "code",
   "execution_count": 6,
   "metadata": {
    "jupyter": {
     "outputs_hidden": true
    }
   },
   "outputs": [
    {
     "data": {
      "text/plain": [
       "{'title': 'Slow Cooker Chicken and Dumplings',\n",
       " 'ingredients': ['4 skinless, boneless chicken breast halves ADVERTISEMENT',\n",
       "  '2 tablespoons butter ADVERTISEMENT',\n",
       "  '2 (10.75 ounce) cans condensed cream of chicken soup ADVERTISEMENT',\n",
       "  '1 onion, finely diced ADVERTISEMENT',\n",
       "  '2 (10 ounce) packages refrigerated biscuit dough, torn into pieces ADVERTISEMENT',\n",
       "  'ADVERTISEMENT'],\n",
       " 'instructions': 'Place the chicken, butter, soup, and onion in a slow cooker, and fill with enough water to cover.\\nCover, and cook for 5 to 6 hours on High. About 30 minutes before serving, place the torn biscuit dough in the slow cooker. Cook until the dough is no longer raw in the center.\\n',\n",
       " 'picture_link': '55lznCYBbs2mT8BTx6BTkLhynGHzM.S'}"
      ]
     },
     "execution_count": 6,
     "metadata": {},
     "output_type": "execute_result"
    }
   ],
   "source": [
    "# Affichage de la valeur de la clé 0\n",
    "\n",
    "keys = list(data.keys())\n",
    "data[keys[0]]"
   ]
  },
  {
   "cell_type": "code",
   "execution_count": 7,
   "metadata": {
    "jupyter": {
     "outputs_hidden": true
    }
   },
   "outputs": [],
   "source": [
    "# Chargement du dictionnaire dans une trame de données \n",
    "\n",
    "df = pd.DataFrame()\n",
    "\n",
    "recipe_sources = [\"ar\", 'epi', 'fn']\n",
    "\n",
    "sources, titles, ingredients, instructions = [], [], [], []\n",
    "\n",
    "for recipe_source in recipe_sources:\n",
    "    data = json.load(open(f'Dataset/recipes_raw_nosource_{recipe_source}.json', 'r'))\n",
    "    \n",
    "    for _, recipe in data.items():\n",
    "        if ('title' in recipe) and ('ingredients' in recipe) and ('instructions' in recipe):                    \n",
    "            sources.append(recipe_source)\n",
    "            titles.append(recipe['title'])\n",
    "            ingredients.append([ingredient.replace('ADVERTISEMENT', '') for ingredient in recipe['ingredients']])       \n",
    "            instructions.append(str(recipe['instructions']).replace('ADVERTISEMENT', '').replace('\\n', ' '))\n",
    "        \n",
    "df['source'] = sources\n",
    "df['title'] = titles  \n",
    "df['ingredients'] = ingredients  \n",
    "df['instructions'] = instructions  "
   ]
  },
  {
   "cell_type": "code",
   "execution_count": 8,
   "metadata": {
    "jupyter": {
     "outputs_hidden": true
    }
   },
   "outputs": [
    {
     "data": {
      "text/html": [
       "<div>\n",
       "<style scoped>\n",
       "    .dataframe tbody tr th:only-of-type {\n",
       "        vertical-align: middle;\n",
       "    }\n",
       "\n",
       "    .dataframe tbody tr th {\n",
       "        vertical-align: top;\n",
       "    }\n",
       "\n",
       "    .dataframe thead th {\n",
       "        text-align: right;\n",
       "    }\n",
       "</style>\n",
       "<table border=\"1\" class=\"dataframe\">\n",
       "  <thead>\n",
       "    <tr style=\"text-align: right;\">\n",
       "      <th></th>\n",
       "      <th>source</th>\n",
       "      <th>title</th>\n",
       "      <th>ingredients</th>\n",
       "      <th>instructions</th>\n",
       "    </tr>\n",
       "  </thead>\n",
       "  <tbody>\n",
       "    <tr>\n",
       "      <th>0</th>\n",
       "      <td>ar</td>\n",
       "      <td>Slow Cooker Chicken and Dumplings</td>\n",
       "      <td>[4 skinless, boneless chicken breast halves , ...</td>\n",
       "      <td>Place the chicken, butter, soup, and onion in ...</td>\n",
       "    </tr>\n",
       "    <tr>\n",
       "      <th>1</th>\n",
       "      <td>ar</td>\n",
       "      <td>Awesome Slow Cooker Pot Roast</td>\n",
       "      <td>[2 (10.75 ounce) cans condensed cream of mushr...</td>\n",
       "      <td>In a slow cooker, mix cream of mushroom soup, ...</td>\n",
       "    </tr>\n",
       "    <tr>\n",
       "      <th>2</th>\n",
       "      <td>ar</td>\n",
       "      <td>Brown Sugar Meatloaf</td>\n",
       "      <td>[1/2 cup packed brown sugar , 1/2 cup ketchup ...</td>\n",
       "      <td>Preheat oven to 350 degrees F (175 degrees C)....</td>\n",
       "    </tr>\n",
       "    <tr>\n",
       "      <th>3</th>\n",
       "      <td>ar</td>\n",
       "      <td>Best Chocolate Chip Cookies</td>\n",
       "      <td>[1 cup butter, softened , 1 cup white sugar , ...</td>\n",
       "      <td>Preheat oven to 350 degrees F (175 degrees C)....</td>\n",
       "    </tr>\n",
       "    <tr>\n",
       "      <th>4</th>\n",
       "      <td>ar</td>\n",
       "      <td>Homemade Mac and Cheese Casserole</td>\n",
       "      <td>[8 ounces whole wheat rotini pasta , 3 cups fr...</td>\n",
       "      <td>Preheat oven to 350 degrees F. Line a 2-quart ...</td>\n",
       "    </tr>\n",
       "  </tbody>\n",
       "</table>\n",
       "</div>"
      ],
      "text/plain": [
       "  source                              title  \\\n",
       "0     ar  Slow Cooker Chicken and Dumplings   \n",
       "1     ar      Awesome Slow Cooker Pot Roast   \n",
       "2     ar               Brown Sugar Meatloaf   \n",
       "3     ar        Best Chocolate Chip Cookies   \n",
       "4     ar  Homemade Mac and Cheese Casserole   \n",
       "\n",
       "                                         ingredients  \\\n",
       "0  [4 skinless, boneless chicken breast halves , ...   \n",
       "1  [2 (10.75 ounce) cans condensed cream of mushr...   \n",
       "2  [1/2 cup packed brown sugar , 1/2 cup ketchup ...   \n",
       "3  [1 cup butter, softened , 1 cup white sugar , ...   \n",
       "4  [8 ounces whole wheat rotini pasta , 3 cups fr...   \n",
       "\n",
       "                                        instructions  \n",
       "0  Place the chicken, butter, soup, and onion in ...  \n",
       "1  In a slow cooker, mix cream of mushroom soup, ...  \n",
       "2  Preheat oven to 350 degrees F (175 degrees C)....  \n",
       "3  Preheat oven to 350 degrees F (175 degrees C)....  \n",
       "4  Preheat oven to 350 degrees F. Line a 2-quart ...  "
      ]
     },
     "execution_count": 8,
     "metadata": {},
     "output_type": "execute_result"
    }
   ],
   "source": [
    "# Affichage des premières données de la trame\n",
    "\n",
    "df.head()"
   ]
  },
  {
   "cell_type": "code",
   "execution_count": 9,
   "metadata": {},
   "outputs": [],
   "source": [
    "# Ajout de deux caratéristiques: le nombre d'ingrédients et la longueur des instructions des recettes de cuisine\n",
    "\n",
    "df['ingredient_count'] = df['ingredients'].str.len().fillna(0).astype(int)\n",
    "df['instruction_length'] = df['instructions'].str.split().str.len().fillna(0).astype(int)"
   ]
  },
  {
   "cell_type": "code",
   "execution_count": 10,
   "metadata": {},
   "outputs": [
    {
     "data": {
      "text/html": [
       "<div>\n",
       "<style scoped>\n",
       "    .dataframe tbody tr th:only-of-type {\n",
       "        vertical-align: middle;\n",
       "    }\n",
       "\n",
       "    .dataframe tbody tr th {\n",
       "        vertical-align: top;\n",
       "    }\n",
       "\n",
       "    .dataframe thead th {\n",
       "        text-align: right;\n",
       "    }\n",
       "</style>\n",
       "<table border=\"1\" class=\"dataframe\">\n",
       "  <thead>\n",
       "    <tr style=\"text-align: right;\">\n",
       "      <th></th>\n",
       "      <th>source</th>\n",
       "      <th>title</th>\n",
       "      <th>ingredients</th>\n",
       "      <th>instructions</th>\n",
       "      <th>ingredient_count</th>\n",
       "      <th>instruction_length</th>\n",
       "    </tr>\n",
       "  </thead>\n",
       "  <tbody>\n",
       "    <tr>\n",
       "      <th>0</th>\n",
       "      <td>ar</td>\n",
       "      <td>Slow Cooker Chicken and Dumplings</td>\n",
       "      <td>[4 skinless, boneless chicken breast halves , ...</td>\n",
       "      <td>Place the chicken, butter, soup, and onion in ...</td>\n",
       "      <td>6</td>\n",
       "      <td>53</td>\n",
       "    </tr>\n",
       "    <tr>\n",
       "      <th>1</th>\n",
       "      <td>ar</td>\n",
       "      <td>Awesome Slow Cooker Pot Roast</td>\n",
       "      <td>[2 (10.75 ounce) cans condensed cream of mushr...</td>\n",
       "      <td>In a slow cooker, mix cream of mushroom soup, ...</td>\n",
       "      <td>5</td>\n",
       "      <td>44</td>\n",
       "    </tr>\n",
       "    <tr>\n",
       "      <th>2</th>\n",
       "      <td>ar</td>\n",
       "      <td>Brown Sugar Meatloaf</td>\n",
       "      <td>[1/2 cup packed brown sugar , 1/2 cup ketchup ...</td>\n",
       "      <td>Preheat oven to 350 degrees F (175 degrees C)....</td>\n",
       "      <td>11</td>\n",
       "      <td>67</td>\n",
       "    </tr>\n",
       "    <tr>\n",
       "      <th>3</th>\n",
       "      <td>ar</td>\n",
       "      <td>Best Chocolate Chip Cookies</td>\n",
       "      <td>[1 cup butter, softened , 1 cup white sugar , ...</td>\n",
       "      <td>Preheat oven to 350 degrees F (175 degrees C)....</td>\n",
       "      <td>12</td>\n",
       "      <td>74</td>\n",
       "    </tr>\n",
       "    <tr>\n",
       "      <th>4</th>\n",
       "      <td>ar</td>\n",
       "      <td>Homemade Mac and Cheese Casserole</td>\n",
       "      <td>[8 ounces whole wheat rotini pasta , 3 cups fr...</td>\n",
       "      <td>Preheat oven to 350 degrees F. Line a 2-quart ...</td>\n",
       "      <td>14</td>\n",
       "      <td>175</td>\n",
       "    </tr>\n",
       "  </tbody>\n",
       "</table>\n",
       "</div>"
      ],
      "text/plain": [
       "  source                              title  \\\n",
       "0     ar  Slow Cooker Chicken and Dumplings   \n",
       "1     ar      Awesome Slow Cooker Pot Roast   \n",
       "2     ar               Brown Sugar Meatloaf   \n",
       "3     ar        Best Chocolate Chip Cookies   \n",
       "4     ar  Homemade Mac and Cheese Casserole   \n",
       "\n",
       "                                         ingredients  \\\n",
       "0  [4 skinless, boneless chicken breast halves , ...   \n",
       "1  [2 (10.75 ounce) cans condensed cream of mushr...   \n",
       "2  [1/2 cup packed brown sugar , 1/2 cup ketchup ...   \n",
       "3  [1 cup butter, softened , 1 cup white sugar , ...   \n",
       "4  [8 ounces whole wheat rotini pasta , 3 cups fr...   \n",
       "\n",
       "                                        instructions  ingredient_count  \\\n",
       "0  Place the chicken, butter, soup, and onion in ...                 6   \n",
       "1  In a slow cooker, mix cream of mushroom soup, ...                 5   \n",
       "2  Preheat oven to 350 degrees F (175 degrees C)....                11   \n",
       "3  Preheat oven to 350 degrees F (175 degrees C)....                12   \n",
       "4  Preheat oven to 350 degrees F. Line a 2-quart ...                14   \n",
       "\n",
       "   instruction_length  \n",
       "0                  53  \n",
       "1                  44  \n",
       "2                  67  \n",
       "3                  74  \n",
       "4                 175  "
      ]
     },
     "execution_count": 10,
     "metadata": {},
     "output_type": "execute_result"
    }
   ],
   "source": [
    "# Affichage des premières données de la trame de données avec les nouvelles caratéristiques\n",
    "\n",
    "df.head()"
   ]
  },
  {
   "cell_type": "code",
   "execution_count": 11,
   "metadata": {},
   "outputs": [
    {
     "data": {
      "text/plain": [
       "<AxesSubplot:xlabel='source', ylabel='ingredient_count'>"
      ]
     },
     "execution_count": 11,
     "metadata": {},
     "output_type": "execute_result"
    },
    {
     "data": {
      "image/png": "[encoded data removed]",
      "text/plain": [
       "<Figure size 600x400 with 1 Axes>"
      ]
     },
     "metadata": {},
     "output_type": "display_data"
    }
   ],
   "source": [
    "# Affichage du boxplot du nombre des ingrédients des recettes en fonction des sources des recettes\n",
    "\n",
    "sns.boxplot(data=df, x='source', y='ingredient_count', showfliers=False )"
   ]
  },
  {
   "cell_type": "code",
   "execution_count": 12,
   "metadata": {},
   "outputs": [
    {
     "data": {
      "text/plain": [
       "<AxesSubplot:xlabel='source', ylabel='instruction_length'>"
      ]
     },
     "execution_count": 12,
     "metadata": {},
     "output_type": "execute_result"
    },
    {
     "data": {
      "image/png": "[encoded data removed]",
      "text/plain": [
       "<Figure size 600x400 with 1 Axes>"
      ]
     },
     "metadata": {},
     "output_type": "display_data"
    }
   ],
   "source": [
    "# Affichage du boxplot de la longueur des recettes en fonction des sources des recettes\n",
    "\n",
    "sns.boxplot(data=df, x='source', y='instruction_length', showfliers=False )"
   ]
  },
  {
   "cell_type": "markdown",
   "metadata": {},
   "source": [
    "## E. Tache 3 - Préparation des données"
   ]
  },
  {
   "cell_type": "code",
   "execution_count": 13,
   "metadata": {},
   "outputs": [
    {
     "name": "stdout",
     "output_type": "stream",
     "text": [
      "(124647, 6)\n",
      "(121780, 6)\n"
     ]
    }
   ],
   "source": [
    "# Sont conservés uniquement les recettes qui contiennent au moins 3 ingredients \n",
    "# et dont la longueur des instructions est supérieure ou égale à 10\n",
    "\n",
    "print(df.shape)\n",
    "df = df[(df.ingredient_count>=3) & (df.instruction_length>=10)]\n",
    "print(df.shape)"
   ]
  },
  {
   "cell_type": "code",
   "execution_count": 14,
   "metadata": {},
   "outputs": [],
   "source": [
    "# Création d'une nouvelle caratéristique qui combine les ingredients et les instructions associées\n",
    "\n",
    "special_token = ' <|endoftext|> '\n",
    "\n",
    "df['combined'] = ' \\n Ingredients: \\n ' + df.ingredients.str.join(' \\n ') + ' \\n Instruction: \\n ' + \\\n",
    "                df.instructions + special_token"
   ]
  },
  {
   "cell_type": "code",
   "execution_count": 15,
   "metadata": {},
   "outputs": [
    {
     "name": "stdout",
     "output_type": "stream",
     "text": [
      " \n",
      " Ingredients: \n",
      " 1/2 cup butter, melted  \n",
      " 2 eggs, beaten  \n",
      " 1 (8.5 ounce) package dry corn bread mix  \n",
      " 1 (15 ounce) can whole kernel corn, drained  \n",
      " 1 (14.75 ounce) can creamed corn  \n",
      " 1 cup sour cream  \n",
      "  \n",
      " Instruction: \n",
      " Preheat oven to 350 degrees F (175 degrees C), and lightly grease a 9x9 inch baking dish. In a medium bowl, combine butter, eggs, corn bread mix, whole and creamed corn and sour cream. Spoon mixture into prepared dish. Bake for 45 minutes in the preheated oven, or until the top is golden brown.  <|endoftext|> \n"
     ]
    }
   ],
   "source": [
    "# Affichage combiné des ingrédients et des instructions de cette recette\n",
    "\n",
    "print(df.iloc[100].combined)"
   ]
  },
  {
   "cell_type": "code",
   "execution_count": 16,
   "metadata": {},
   "outputs": [],
   "source": [
    "# Séparation des données en données d'entrainement (80%) et données de validation (20%)\n",
    "\n",
    "dataset_train = df[:int(len(df)*80/100)].combined.values\n",
    "dataset_val = df[int(len(df)*80/100):].combined.values\n",
    "\n",
    "with open('Dataset/dataset_train.txt', 'w') as f:\n",
    "    f.write('\\n'.join(dataset_train))\n",
    "    \n",
    "with open('Dataset/dataset_val.txt', 'w') as f:\n",
    "    f.write('\\n'.join(dataset_val))"
   ]
  },
  {
   "cell_type": "markdown",
   "metadata": {},
   "source": [
    "## F. Tache 4 - Formulation et théorie du modèle pré-entraîné GPT-2 "
   ]
  },
  {
   "cell_type": "code",
   "execution_count": 17,
   "metadata": {},
   "outputs": [],
   "source": [
    "tokenizer = AutoTokenizer.from_pretrained('distilgpt2')\n",
    "model = AutoModelForCausalLM.from_pretrained('distilgpt2')"
   ]
  },
  {
   "cell_type": "code",
   "execution_count": 18,
   "metadata": {},
   "outputs": [
    {
     "data": {
      "text/plain": [
       "tensor([[28065,    11,   314,  6807,   284,   262,  6128,    11,   290]])"
      ]
     },
     "execution_count": 18,
     "metadata": {},
     "output_type": "execute_result"
    }
   ],
   "source": [
    "prompt_text = 'Yesterday, I walked to the shop, and'\n",
    "\n",
    "encoded_prompt = tokenizer.encode(\n",
    "    prompt_text,\n",
    "    add_special_tokens=False,\n",
    "    return_tensors='pt'\n",
    ")\n",
    "\n",
    "encoded_prompt"
   ]
  },
  {
   "cell_type": "code",
   "execution_count": 19,
   "metadata": {},
   "outputs": [
    {
     "name": "stderr",
     "output_type": "stream",
     "text": [
      "Setting `pad_token_id` to `eos_token_id`:50256 for open-end generation.\n"
     ]
    }
   ],
   "source": [
    "output_sequences = model.generate(\n",
    "    input_ids=encoded_prompt,\n",
    "    max_length=700,\n",
    "    temperature=0.9,\n",
    "    top_k=20,\n",
    "    top_p=0.9,\n",
    "    repetition_penalty=1,\n",
    "    do_sample=True,\n",
    "    num_return_sequences=2\n",
    ")"
   ]
  },
  {
   "cell_type": "code",
   "execution_count": 20,
   "metadata": {},
   "outputs": [
    {
     "data": {
      "text/plain": [
       "\"Yesterday, I walked to the shop, and my friend asked me what my favorite food to eat. We both had to eat a bunch of beans, and I was just a bit confused. I thought it was pretty cool. I was surprised that this was the type of food I'd ever had, and was happy to share it with you.\\n\\n\\nI was actually surprised to learn about this stuff because I love food!\\nI also found a lot of great stuff that I love, and I am always surprised to find a few that are so good to eat.\\nIt was pretty easy to make a few of these sandwiches with a few ingredients, but it didn't last long. This was a good thing! It was so good, and it made me want to go and make some! It's a really easy thing.\\nI think I've always been a big fan of this stuff, and I'm just a little disappointed that it never came out. I can't imagine what would have happened if I had never had a sandwich with my own. I would've had it, but it was too small, too large, too small and too big, too small, too big, too small and too big. The sandwich is really amazing. It's really so simple, and it's easy to make. It's so easy to make, and it's so good to make!\\nI think this is really good stuff, because I'm just a little disappointed that it never came out. I can't imagine what would have happened if I had never had a sandwich with my own. I can't imagine what would have happened if I had never had a sandwich with my own. I would've had it, but it's so good to make! It's so simple, and it's so good to make! It's so easy to make, and it's so good to make! It's so easy to make, and it's so good to make! It's so easy to make! It's so easy to make! It's so easy to make! It's so easy to make! It's so easy to make! It's so easy to make! It's so easy to make! It's so easy to make! It's so easy to make! It's so easy to make! It's so easy to make! It's so easy to make! It's so easy to make! It's so easy to make! It's so easy to make! It's so easy to make! It's so easy to make! It's so easy to make! It's so easy to make! It's so easy to make! It's so easy to make! It's so easy to make! It's so easy to make! It's so easy to make! It's so easy to make! It's so easy to make! It's so easy to make! It's so easy to make! It's so easy to make! It's so easy to make! It's so easy to make! It's so easy to make! It's so easy to make! It's so easy to make! It's so easy to make! It's so easy to make! It's so easy to make! It's so easy to make! It's so easy to make! It's so easy to make! It's so easy to make! It's so easy to make! It's so easy to make! It\""
      ]
     },
     "execution_count": 20,
     "metadata": {},
     "output_type": "execute_result"
    }
   ],
   "source": [
    "#output_sequences[0]\n",
    "tokenizer.decode(output_sequences[0])"
   ]
  },
  {
   "cell_type": "markdown",
   "metadata": {},
   "source": [
    "## G. Tache 5 - - Entrainement du modèle"
   ]
  },
  {
   "cell_type": "code",
   "execution_count": 21,
   "metadata": {},
   "outputs": [],
   "source": [
    "# !bash run_experiments.sh"
   ]
  },
  {
   "cell_type": "code",
   "execution_count": 29,
   "metadata": {},
   "outputs": [],
   "source": [
    "model = AutoModelForCausalLM.from_pretrained('TrainedModels/Model_10_epochs/')"
   ]
  },
  {
   "cell_type": "code",
   "execution_count": 31,
   "metadata": {},
   "outputs": [
    {
     "data": {
      "text/plain": [
       "GPT2Config {\n",
       "  \"_name_or_path\": \"TrainedModels/Model_10_epochs/\",\n",
       "  \"_num_labels\": 1,\n",
       "  \"activation_function\": \"gelu_new\",\n",
       "  \"architectures\": [\n",
       "    \"GPT2LMHeadModel\"\n",
       "  ],\n",
       "  \"attn_pdrop\": 0.1,\n",
       "  \"bos_token_id\": 50256,\n",
       "  \"embd_pdrop\": 0.1,\n",
       "  \"eos_token_id\": 50256,\n",
       "  \"gradient_checkpointing\": false,\n",
       "  \"id2label\": {\n",
       "    \"0\": \"LABEL_0\"\n",
       "  },\n",
       "  \"initializer_range\": 0.02,\n",
       "  \"label2id\": {\n",
       "    \"LABEL_0\": 0\n",
       "  },\n",
       "  \"layer_norm_epsilon\": 1e-05,\n",
       "  \"model_type\": \"gpt2\",\n",
       "  \"n_ctx\": 1024,\n",
       "  \"n_embd\": 768,\n",
       "  \"n_head\": 12,\n",
       "  \"n_inner\": null,\n",
       "  \"n_layer\": 6,\n",
       "  \"n_positions\": 1024,\n",
       "  \"resid_pdrop\": 0.1,\n",
       "  \"summary_activation\": null,\n",
       "  \"summary_first_dropout\": 0.1,\n",
       "  \"summary_proj_to_labels\": true,\n",
       "  \"summary_type\": \"cls_index\",\n",
       "  \"summary_use_proj\": true,\n",
       "  \"task_specific_params\": {\n",
       "    \"text-generation\": {\n",
       "      \"do_sample\": true,\n",
       "      \"max_length\": 50\n",
       "    }\n",
       "  },\n",
       "  \"transformers_version\": \"4.3.2\",\n",
       "  \"use_cache\": true,\n",
       "  \"vocab_size\": 50257\n",
       "}"
      ]
     },
     "execution_count": 31,
     "metadata": {},
     "output_type": "execute_result"
    }
   ],
   "source": [
    "configuration = model.config\n",
    "configuration"
   ]
  },
  {
   "cell_type": "markdown",
   "metadata": {},
   "source": [
    "## H. Tache 6 - Réglage des performance du modèle"
   ]
  },
  {
   "cell_type": "code",
   "execution_count": 23,
   "metadata": {},
   "outputs": [],
   "source": [
    "from transformers import AutoTokenizer, AutoModelForCausalLM"
   ]
  },
  {
   "cell_type": "code",
   "execution_count": 24,
   "metadata": {},
   "outputs": [],
   "source": [
    "tokenizer = AutoTokenizer.from_pretrained('TrainedModels/Model_10_epochs/')\n",
    "model = AutoModelForCausalLM.from_pretrained('TrainedModels/Model_10_epochs/')"
   ]
  },
  {
   "cell_type": "code",
   "execution_count": 25,
   "metadata": {},
   "outputs": [],
   "source": [
    "with open('Dataset/dataset_val.txt', 'r') as f:\n",
    "    data=f.read()"
   ]
  },
  {
   "cell_type": "code",
   "execution_count": 26,
   "metadata": {},
   "outputs": [],
   "source": [
    "special_token = ' <|endoftext|> '"
   ]
  },
  {
   "cell_type": "code",
   "execution_count": 27,
   "metadata": {},
   "outputs": [],
   "source": [
    "data = data.split(special_token)"
   ]
  },
  {
   "cell_type": "code",
   "execution_count": 28,
   "metadata": {},
   "outputs": [
    {
     "name": "stdout",
     "output_type": "stream",
     "text": [
      " \n",
      " Ingredients: \n",
      " 2 (3.75-ounce 2-layer) tins brisling sardines in olive oil \n",
      " 2 tablespoons finely chopped parsley leaves, divided \n",
      " 1 tablespoon sherry vinegar \n",
      " 1/4 teaspoon lemon zest, reserve the lemon and cut into 4 wedges \n",
      " Freshly ground black pepper \n",
      " 4 (1/2-inch) thick slices crusty bread, such as sourdough, country loaf or rye \n",
      " 1 ripe Hass avocado \n",
      " Coarse sea salt \n",
      " Instruction: \n",
      " Watch how to make this recipe. Drain the oil from 1 tin of sardines into a small bowl and set aside. Drain the oil from the other tin into another small bowl and whisk in 1 tablespoon of parsley, vinegar, lemon zest, and black pepper, to taste. Add the sardines, stir to combine and set aside for up to 1 hour. After 45 minutes, put a rack 3-inches from the broiler and heat the oven to the broiler setting on high. Brush each slice of bread on 1 side with the reserved oil. Put the bread, oil side up, onto a cooling rack set inside a half sheet pan and broil 2 to 3 minutes or until golden brown and crisp. Halve the avocado and remove the pit. Smash the flesh in each half with a fork. Spread the avocado evenly onto the toasted bread. Top evenly with the sardines. Pour any remaining dressing on top and garnish with the remaining parsley. Season lightly with sea salt and serve with lemon wedges.\n",
      "\n",
      " \n",
      " Ingredients: \n",
      " 1 cup white cornmeal \n",
      " 1 cup all-purpose flour \n",
      " 2 teaspoons baking powder \n",
      " 1/2 teaspoon baking soda \n",
      " 2 cups buttermilk \n",
      " 5 tablespoons unsalted butter, melted \n",
      " 1/4 cup plus 2 tablespoons pure maple syrup \n",
      " 2 large eggs \n",
      " Nonstick cooking spray \n",
      " 2 tablespoons Dijon mustard \n",
      " 1 1/4 cup grated sharp Cheddar \n",
      " 6 slices bacon, cooked until crisp \n",
      " Special equipment: a waffle iron \n",
      " Instruction: \n",
      " Preheat the oven to 300 degrees F. Whisk together the cornmeal, flour, baking powder and baking soda in a medium bowl. Whisk together the buttermilk, butter, 1/4 cup of the maple syrup and eggs in a medium bowl until combined. Add the wet ingredients to the dry ingredients, and stir until just combined. Heat a waffle iron according to the manufacturer's directions. Spray the grates of the waffle iron with nonstick cooking spray. Use a scant 1/2 cup of the batter per grid, close the cover and cook until golden brown or when the steam stops emerging from the waffle iron, about 4 minutes. Repeat with remaining batter. The recipe will make 6 waffles. Meanwhile, whisk together the Dijon mustard and the remaining 2 tablespoons of the maple syrup in a small bowl. Place 3 waffles on a large baking sheet in a single layer and spread some of the mustard over the tops of each waffle. Sprinkle the cheese evenly over the top. Place in the oven until the cheese has melted. Arrange one-third of the bacon slices on the cheesy waffles and drizzle with a little more of the Dijon mustard mixture. Top with the reserved 3 waffles. Slice on the diagonal and serve warm.\n",
      "\n",
      " \n",
      " Ingredients: \n",
      " 4 tablespoons (1/2 stick) unsalted butter, softened \n",
      " 1/2 cup light brown sugar \n",
      " 1/2 cup granulated sugar \n",
      " 1 teaspoon vanilla extract \n",
      " 2 large egg whites \n",
      " 3/4 cup Dutch process (alkalized) cocoa powder \n",
      " 3/4 cup all-purpose flour \n",
      " 1/4 teaspoon salt \n",
      " More sugar for finishing the cookies \n",
      " 2 cookie sheets or jelly roll pans lined with parchment or foil \n",
      " Instruction: \n",
      " Combine butter, sugars and vanilla in the bowl of an electric mixer and beat on medium speed until light, about 5 minutes, scraping bowl and beaters occasionally. Beat in the egg whites, one at a time, beating smooth after each addition. While the mixture is beating, sift the cocoa with the flour and salt. Stop mixer, scrape down bowl and beaters and add dry ingredients. Mix on low speed until incorporated. Scrape the dough out onto a piece of plastic wrap. Cover with another piece of wrap and press the dough into a rough disk. Refrigerate the dough until it is firm -- several hours or overnight. About 20 minutes before you intend to bake the cookies, set a rack at the middle level of the oven and preheat to 350 degrees. Divide the dough into 3 parts and roll one at a time on a lightly floured work surface into a 6-inch square. Cut the dough with a fluted or plain round cutter into nine 2-inch cookies and place them on the prepared pan. Continue with the remaining dough. After rolling all the dough, press the scraps back together and make about 9 more cookies. Pierce the cookies several times with a fork and sprinkle them lightly with granulated sugar. Bake the cookies about 20 minutes, until slightly puffed and firm. Cool the cookies on the pan. Serve with any creamy or plain dessert, or ice cream. They're also great by themselves. Storage suggestion: Keep the cookies between layers of waxed paper in an air-tight tin or plastic container\n",
      "\n",
      " \n",
      " Ingredients: \n",
      " 4 large ripe tomatoes, seeded and cut into 1/2 inch dice \n",
      " 1/4 to 1/2 cup sliced scallions or to taste \n",
      " 1 to 2 cloves minced garlic \n",
      " 1 to 2 small pickled or fresh Jalapeno peppers \n",
      " Olive oil to taste \n",
      " Red wine vinegar to taste \n",
      " Salt \n",
      " Instruction: \n",
      " Combine all of the ingredients and season to taste with salt. Transfer to a jar. Will keep in the fridge for a week.;\n",
      "\n",
      " \n",
      " Ingredients: \n",
      " 3 tablespoons unsalted butter \n",
      " 1 medium onion, chopped \n",
      " 1 garlic clove, minced \n",
      " 1 teaspoon ground coriander seeds \n",
      " 1 teaspoon ground cumin seeds \n",
      " 1 jalapeno pepper, minced \n",
      " 2 medium tomatoes, seeded and diced \n",
      " 2 medium potatoes, diced \n",
      " 1 red bell pepper, cored, seeded and diced \n",
      " 1 teaspoon coarse salt \n",
      " 1/2 teaspoon freshly ground black pepper \n",
      " 4 cups vegetable stock \n",
      " 5 ears of corn, husked and kernels removed \n",
      " 1 cup milk \n",
      " 1/2 cup grated Manchego cheese \n",
      " Instruction: \n",
      " Melt the butter in a large stockpot over moderate heat. Saute the onions until soft, about 10 minutes. Add the garlic, coriander, cumin and jalapeno pepper and saute another 2 minutes to release the aromas. Add the chopped tomatoes and cook until they are juicy. Add the potatoes, bell pepper, salt and pepper, and stock. Cover and simmer until the potatoes are tender, about 10 minutes. Add the corn and heat through another 2 minutes. In a blender, puree half of the soup with the milk and cheese. Stir the puree back into the soup pot. Adjust seasoning. Heat slowly until soup is warmed through and serve.\n",
      "\n",
      " \n",
      " Ingredients: \n",
      " 1/4 cup cold whole milk \n",
      " 2 tablespoons chocolate syrup \n",
      " Cold club soda \n",
      " Instruction: \n",
      " In a 12-ounce chilled tall glass, stir together the milk and chocolate syrup until combined. Slowly fill the glass with club soda. Serve immediately.\n",
      "\n",
      " \n",
      " Ingredients: \n",
      " 1 cup finely chopped vanilla wafers \n",
      " 1 cup finely chopped pecans \n",
      " 1 1/2 cups confectioners' sugar, divided \n",
      " 2 tablespoons unsweetened cocoa \n",
      " 2 tablespoons Kentucky bourbon \n",
      " 1 1/2 tablespoons light corn syrup \n",
      " Instruction: \n",
      " Combine the vanilla wafer crumbs, chopped pecans, 1 cup of the confectioners' sugar, and the cocoa. Combine the bourbon and corn syrup and stir into the dry mixture. When thoroughly blended, cover and refrigerate the dough for 1 hour or more. Sift the remaining confectioners' sugar onto a large piece of waxed paper. Take 1 tablespoon of the dough, shape it into a ball, and roll it in the sugar. Repeat until all the dough is used. Store them, covered, in the refrigerator.\n",
      "\n",
      " \n",
      " Ingredients: \n",
      " 1 lemon, juiced \n",
      " 1 cup soy sauce \n",
      " 3 tablespoons white balsamic vinegar \n",
      " 1 teaspoon granulated sugar \n",
      " 1 jalapeno, seeded and diced \n",
      " 1/4 cup loosely packed cilantro leaves \n",
      " 1/4 cup loosely packed parsley leaves \n",
      " 1/4 cup loosely packed basil leaves \n",
      " 1/4 cup loosely packed mint leaves \n",
      " 2 tablespoons minced garlic \n",
      " 1/2 cup all-purpose flour \n",
      " 1 tablespoon cornstarch \n",
      " 1 tablespoon baking powder \n",
      " 1 teaspoon salt \n",
      " 1 egg \n",
      " 1/4 cup soda water \n",
      " 1 teaspoon rice wine vinegar \n",
      " 2 cups buttermilk \n",
      " 1 tablespoon Cajun spice \n",
      " 1 pork tenderloin (1 1/2 to 2 pounds), sliced 1/2-inch thick on bias \n",
      " Oil, for frying \n",
      " Instruction: \n",
      " Put all the liquids, sugar and jalapeno into a blender and mix well. Add the cilantro, parsley, basil and mint and pulse 5 to 6 times. Cooks Note: To pulse: the blender should be turned on to high speed, then turned off. Add the garlic and pulse 3 more times. Remove the sauce from the mixer to a bowl and let rest for 1 hour before usage if possible. In mixing bowl, mix all the dry ingredients together, blending well. Next, whisk in the egg, soda water, and vinegar. Keep the tempura cold until using, then stir again. In a mixing bowl, add the buttermilk and Cajun spice and whisk well. Add the pork and marinate for 20 to 30 minutes. In a deep-fryer or heavy-bottomed pot, heat enough oil to come halfway up the sides of the pot, to 350 degrees F and the oven to 300 degrees F. Remove the pork form the marinade and add it to the tempura batter. Remove the pork from the batter, 1 slice at a time, and carefully add to the hot oil. Fry until golden brown, 4 to 5 minutes. Cooking the pork should be done in 2 to 3 batches. Arrange the pork on a sheet pan and keep it warm in the preheated 300 degree F oven. After all the pork has been cooked, portion the pork onto serving plates and serve with the sauce.\n",
      "\n",
      " \n",
      " Ingredients: \n",
      " 1 (15-ounce) can pear halves, drained and sliced, reserve 2 tablespoons juice \n",
      " 2 tablespoons olive oil and vinegar dressing \n",
      " Salt and freshly ground black pepper \n",
      " 2 cups baby arugala \n",
      " 4 tablespoons Gorgonzola, crumbled \n",
      " 4 tablespoons glazed pecans \n",
      " Instruction: \n",
      " Watch how to make this recipe. In a large bowl, whisk together 2 tablespoons reserved pear juice and olive oil and vinegar dressing. Season, to taste, with salt and pepper. Add arugula and toss to coat. Divide dressed arugula among 4 chilled salad plates. Top each salad with 4 pear slices, Gorgonzola, and pecans. Serve immediately.\n",
      "\n",
      " \n",
      " Ingredients: \n",
      " 2 1/2 cups all-purpose flour, plus more for the work surface \n",
      " 4 teaspoons granulated sugar \n",
      " 1/4 teaspoon fine salt \n",
      " 14 tablespoons cold unsalted butter, diced \n",
      " 1 large egg, lightly beaten with 2 tablespoons cold water \n",
      " 2 tablespoons fresh lemon juice \n",
      " 3 pounds baking apples, such as Golden Delicious, Cortland or Mutsu \n",
      " 2/3 cup granulated sugar \n",
      " 4 tablespoons unsalted butter \n",
      " 1 teaspoon ground cinnamon \n",
      " 1/4 teaspoon ground allspice \n",
      " Generous pinch freshly grated nutmeg \n",
      " 1 cup all-purpose flour \n",
      " 1/2 cup light brown sugar \n",
      " 1/4 teaspoon fine salt \n",
      " 6 tablespoons unsalted butter, at room temperature \n",
      " 1/2 cup chopped walnuts \n",
      " Instruction: \n",
      " For the dough: Pulse the flour, granulated sugar and salt in a food processor until combined. Add the butter, and pulse until the mixture resembles yellow cornmeal mixed with pea-sized bits of butter. Add the egg, and pulse until the dough just comes together. (If the dough is very dry, add up to 1 tablespoon cold water.) Remove the dough, gently pat it into a round, wrap it in plastic wrap and refrigerate until thoroughly chilled, at least 1 hour and up to 2 days. For the filling: Meanwhile, put the lemon juice in a medium bowl. Peel and core the apples; cut each in half, and cut each half into 4 wedges. Add the apples and granulated sugar to the bowl with the lemon juice, and toss. Melt the butter over medium-high heat in a large skillet. Add the sugared apples, and cook, stirring, until the sugar dissolves and the mixture begins to simmer, about 2 minutes. Cover, reduce the heat to medium-low and cook until the apples soften and release most of their juices, about 7 minutes. Strain the apples in a colander over a medium bowl to catch all the juice. Shake the colander to extract as much liquid as possible. Return the juice to the skillet, and simmer over medium heat until it has thickened and lightly caramelized, about 10 minutes. Toss the apples with the thickened juice, cinnamon, allspice and nutmeg in a medium bowl. Set aside to cool completely. (The cooled filling can be refrigerated for up to 2 days or frozen for up to 6 months.) For the streusel topping: Whisk the flour, sugar and salt together in a medium bowl. Add the butter, and rub it into the flour mixture with your fingers until it has been absorbed. Mix in the walnuts. To assemble and bake the pie: Position a rack in the lower third of the oven, place a baking sheet on it and preheat the oven to 375 degrees F. On a lightly floured work surface, roll the dough disk into a 12-inch circle. Layer it between pieces of parchment or wax paper on a baking sheet, and refrigerate for at least 10 minutes. Ease the dough round into a 9-inch pie pan. Fold and crimp the edges as desired. Add the filling, and spread it out to make an even layer. Squeeze handfuls of the streusel topping, and drop clumps of it on top of the filling to completely cover it. Bake the pie on the preheated baking sheet until the crust and streusel are golden brown, 50 to 60 minutes. Let it cool on a cooling rack for at least 3 hours before serving. (The pie keeps well, covered, at room temperature for 24 hours or refrigerated for up to 4 days.)\n"
     ]
    }
   ],
   "source": [
    "for i in range(10):\n",
    "        print(data[i])"
   ]
  }
 ],
 "metadata": {
  "kernelspec": {
   "display_name": "Python 3",
   "language": "python",
   "name": "python3"
  },
  "language_info": {
   "codemirror_mode": {
    "name": "ipython",
    "version": 3
   },
   "file_extension": ".py",
   "mimetype": "text/x-python",
   "name": "python",
   "nbconvert_exporter": "python",
   "pygments_lexer": "ipython3",
   "version": "3.8.5"
  }
 },
 "nbformat": 4,
 "nbformat_minor": 4
}
